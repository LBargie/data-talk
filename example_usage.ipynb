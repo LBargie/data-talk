{
 "cells": [
  {
   "cell_type": "code",
   "execution_count": null,
   "metadata": {},
   "outputs": [],
   "source": [
    "from src.lang_chain import LangchainChain\n",
    "from src.data_loader import DataLoader\n",
    "from dotenv import load_dotenv"
   ]
  },
  {
   "cell_type": "code",
   "execution_count": null,
   "metadata": {},
   "outputs": [],
   "source": [
    "# Load environment variables, e.g. HuggingFace API token\n",
    "\n",
    "load_dotenv()"
   ]
  },
  {
   "cell_type": "code",
   "execution_count": null,
   "metadata": {},
   "outputs": [],
   "source": [
    "file = \"avg_house_price_scotland.csv\""
   ]
  },
  {
   "cell_type": "code",
   "execution_count": null,
   "metadata": {},
   "outputs": [],
   "source": [
    "# Model from HuggingFace repo. This could be any model - feel free to play around with different models.\n",
    "\n",
    "model = \"mistralai/Mixtral-8x7B-Instruct-v0.1\""
   ]
  },
  {
   "cell_type": "code",
   "execution_count": null,
   "metadata": {},
   "outputs": [],
   "source": [
    "# create a database connection to an in-memory DuckDB instance and create a table from the file.\n",
    "\n",
    "loader = DataLoader()\n",
    "loader.create_table_from_file(file)"
   ]
  },
  {
   "cell_type": "code",
   "execution_count": null,
   "metadata": {},
   "outputs": [],
   "source": [
    "# create a HuggingFace LLM chain that can be used to talk to your data\n",
    "\n",
    "chain = LangchainChain(model=model, db_engine=loader.engine)"
   ]
  },
  {
   "cell_type": "code",
   "execution_count": null,
   "metadata": {},
   "outputs": [],
   "source": [
    "#  question = \"What was the average detached house price in Scotland in 2022?\"\n",
    "#  question = \"What region and date had the highest average detached house price?\"\n",
    "#  question = \"What region and date had the highest average detached house price in 2022?\"\n",
    "#  question = \"What was the average semi-detached house price in Scotland in 2023?\"\n",
    "#  question = \"What was the highest average price for a detached house in East Renfrewshire in 2023?\"\n",
    "#  question = \"What was the highest average semi-detached house price in East Renfrewshire in 2023?\"\n",
    "question = \"What was the lowest average semi-detached house price in South Lanarkshire in all of 2023?\""
   ]
  },
  {
   "cell_type": "code",
   "execution_count": null,
   "metadata": {},
   "outputs": [],
   "source": [
    "response = chain.query(query_str=question)"
   ]
  },
  {
   "cell_type": "code",
   "execution_count": null,
   "metadata": {},
   "outputs": [],
   "source": [
    "# access class attributes to see the generated SQL query and the prompt that was passed to the LLM\n",
    "\n",
    "print(response)\n",
    "print(chain.sql_query)\n",
    "print(chain.prompt)"
   ]
  }
 ],
 "metadata": {
  "kernelspec": {
   "display_name": "Python 3",
   "language": "python",
   "name": "python3"
  },
  "language_info": {
   "codemirror_mode": {
    "name": "ipython",
    "version": 3
   },
   "file_extension": ".py",
   "mimetype": "text/x-python",
   "name": "python",
   "nbconvert_exporter": "python",
   "pygments_lexer": "ipython3",
   "version": "3.11.0"
  }
 },
 "nbformat": 4,
 "nbformat_minor": 2
}
