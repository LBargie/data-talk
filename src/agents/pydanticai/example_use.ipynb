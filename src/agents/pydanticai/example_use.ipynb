{
 "cells": [
  {
   "cell_type": "code",
   "execution_count": 1,
   "metadata": {},
   "outputs": [],
   "source": [
    "import asyncio\n",
    "from dotenv import load_dotenv\n",
    "load_dotenv()\n",
    "from sql_gen import create_db_from_file, DatabaseDeps, agent"
   ]
  },
  {
   "cell_type": "code",
   "execution_count": 2,
   "metadata": {},
   "outputs": [],
   "source": [
    "file = \"/Users/leebarrett/Documents/data_projects/duckdb/lang_vs_llama/files/avg_house_price_scotland.csv\""
   ]
  },
  {
   "cell_type": "code",
   "execution_count": 3,
   "metadata": {},
   "outputs": [],
   "source": [
    "conn = create_db_from_file(file)"
   ]
  },
  {
   "cell_type": "code",
   "execution_count": 4,
   "metadata": {},
   "outputs": [],
   "source": [
    "deps = DatabaseDeps(tbl_name=\"test\", conn=conn)"
   ]
  },
  {
   "cell_type": "code",
   "execution_count": 5,
   "metadata": {},
   "outputs": [],
   "source": [
    "response = await agent.run(\n",
    "        user_prompt=\"What was the most expensive semi-detached sold in South Lanarkshire in 2023?\", \n",
    "        deps=deps\n",
    "        )"
   ]
  },
  {
   "cell_type": "code",
   "execution_count": 8,
   "metadata": {},
   "outputs": [
    {
     "name": "stdout",
     "output_type": "stream",
     "text": [
      "Generated SQL query:  SELECT MAX(Semi_Detached_Average_Price) FROM test WHERE Region_Name=\"South Lanarkshire\" AND strftime(\"%Y\", Date)=\"2023\"\n",
      "SQL query explanation:  This query selects the maximum value from the `Semi_Detached_Average_Price` column, where the `Region_Name` is \"South Lanarkshire\" and the year is 2023.\n",
      "Executed SQL result:  191749\n"
     ]
    }
   ],
   "source": [
    "print(\"Generated SQL query: \", response.data.sql_query)\n",
    "print(\"SQL query explanation: \", response.data.explanation)\n",
    "print(\"Executed SQL result: \", response.data.result)"
   ]
  },
  {
   "cell_type": "code",
   "execution_count": null,
   "metadata": {},
   "outputs": [],
   "source": []
  },
  {
   "cell_type": "code",
   "execution_count": null,
   "metadata": {},
   "outputs": [],
   "source": []
  },
  {
   "cell_type": "code",
   "execution_count": null,
   "metadata": {},
   "outputs": [],
   "source": []
  },
  {
   "cell_type": "code",
   "execution_count": null,
   "metadata": {},
   "outputs": [],
   "source": []
  }
 ],
 "metadata": {
  "kernelspec": {
   "display_name": ".venv",
   "language": "python",
   "name": "python3"
  },
  "language_info": {
   "codemirror_mode": {
    "name": "ipython",
    "version": 3
   },
   "file_extension": ".py",
   "mimetype": "text/x-python",
   "name": "python",
   "nbconvert_exporter": "python",
   "pygments_lexer": "ipython3",
   "version": "3.12.8"
  }
 },
 "nbformat": 4,
 "nbformat_minor": 2
}
