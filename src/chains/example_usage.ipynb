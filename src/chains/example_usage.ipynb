{
 "cells": [
  {
   "cell_type": "code",
   "execution_count": 22,
   "metadata": {},
   "outputs": [],
   "source": [
    "from src.chains.lang_chain import sql_chain\n",
    "from src.chains.llama_chain import retriever, execute_sql\n",
    "from src.data.data_loader import create_table_from_file\n",
    "from sqlalchemy import create_engine\n",
    "from dotenv import load_dotenv\n",
    "from langchain_community.llms.huggingface_endpoint import HuggingFaceEndpoint\n",
    "from llama_index.llms.huggingface import HuggingFaceInferenceAPI\n",
    "from llama_index.core import SQLDatabase\n"
   ]
  },
  {
   "cell_type": "code",
   "execution_count": 23,
   "metadata": {},
   "outputs": [
    {
     "data": {
      "text/plain": [
       "True"
      ]
     },
     "execution_count": 23,
     "metadata": {},
     "output_type": "execute_result"
    }
   ],
   "source": [
    "# Load environment variables, e.g. HuggingFace API token\n",
    "\n",
    "load_dotenv()"
   ]
  },
  {
   "cell_type": "code",
   "execution_count": 24,
   "metadata": {},
   "outputs": [],
   "source": [
    "file = \"/Users/leebarrett/Documents/data_projects/duckdb/lang_vs_llama/files/avg_house_price_scotland.csv\""
   ]
  },
  {
   "cell_type": "markdown",
   "metadata": {},
   "source": [
    "### Database setup"
   ]
  },
  {
   "cell_type": "code",
   "execution_count": 25,
   "metadata": {},
   "outputs": [],
   "source": [
    "# create a database connection to an in-memory DuckDB instance and create a table from the file.\n",
    "\n",
    "engine = create_engine(\"duckdb:///:memory:\")\n",
    "create_table_from_file(engine, file)"
   ]
  },
  {
   "cell_type": "markdown",
   "metadata": {},
   "source": [
    "### LangChain example"
   ]
  },
  {
   "cell_type": "code",
   "execution_count": 26,
   "metadata": {},
   "outputs": [],
   "source": [
    "# Model from HuggingFace repo. This could be any model - feel free to play around with different models.\n",
    "\n",
    "model = \"mistralai/Mistral-Nemo-Instruct-2407\"\n",
    "\n",
    "llm = HuggingFaceEndpoint(endpoint_url=model, temperature=0.1)"
   ]
  },
  {
   "cell_type": "code",
   "execution_count": 27,
   "metadata": {},
   "outputs": [],
   "source": [
    "#  question = \"What was the average detached house price in Scotland in 2022?\"\n",
    "#  question = \"What region and date had the highest average detached house price?\"\n",
    "#  question = \"What region and date had the highest average detached house price in 2022?\"\n",
    "#  question = \"What was the average semi-detached house price in Scotland in 2023?\"\n",
    "#  question = \"What was the highest average price for a detached house in East Renfrewshire in 2023?\"\n",
    "#  question = \"What was the highest average semi-detached house price in East Renfrewshire in 2023?\"\n",
    "question = \"What was the lowest average semi-detached house price in South Lanarkshire in all of 2023?\""
   ]
  },
  {
   "cell_type": "code",
   "execution_count": 28,
   "metadata": {},
   "outputs": [
    {
     "name": "stderr",
     "output_type": "stream",
     "text": [
      "/Users/leebarrett/Documents/data_projects/duckdb/data-talk/.venv/lib/python3.12/site-packages/duckdb_engine/__init__.py:184: DuckDBEngineWarning: duckdb-engine doesn't yet support reflection on indices\n",
      "  warnings.warn(\n"
     ]
    },
    {
     "data": {
      "text/plain": [
       "'[(178082.0,)]'"
      ]
     },
     "execution_count": 28,
     "metadata": {},
     "output_type": "execute_result"
    }
   ],
   "source": [
    "chain = sql_chain(model=llm, db=engine)\n",
    "chain.invoke({\"question\": question})"
   ]
  },
  {
   "cell_type": "markdown",
   "metadata": {},
   "source": [
    "### LLamaIndex Example"
   ]
  },
  {
   "cell_type": "code",
   "execution_count": 29,
   "metadata": {},
   "outputs": [
    {
     "name": "stderr",
     "output_type": "stream",
     "text": [
      "/var/folders/jq/d6tz1qw9469gkbksd0l4s3mc0000gn/T/ipykernel_30227/3917818503.py:1: DeprecationWarning: Call to deprecated class HuggingFaceInferenceAPI. (Deprecated in favor of `HuggingFaceInferenceAPI` from `llama-index-llms-huggingface-api` which should be used instead.)\n",
      "  model = HuggingFaceInferenceAPI(model_name=model)\n",
      "/Users/leebarrett/Documents/data_projects/duckdb/data-talk/.venv/lib/python3.12/site-packages/duckdb_engine/__init__.py:184: DuckDBEngineWarning: duckdb-engine doesn't yet support reflection on indices\n",
      "  warnings.warn(\n"
     ]
    }
   ],
   "source": [
    "model = HuggingFaceInferenceAPI(model_name=model)\n",
    "\n",
    "db = SQLDatabase(engine)"
   ]
  },
  {
   "cell_type": "code",
   "execution_count": 30,
   "metadata": {},
   "outputs": [
    {
     "data": {
      "text/plain": [
       "('[(178082.0,)]',\n",
       " {'result': [(178082.0,)], 'col_keys': ['min(Semi_Detached_Average_Price)']})"
      ]
     },
     "execution_count": 30,
     "metadata": {},
     "output_type": "execute_result"
    }
   ],
   "source": [
    "retriever = retriever(model=model, db=db)\n",
    "\n",
    "query = retriever.retrieve(question)\n",
    "\n",
    "execute_sql(db=db, sql_query=query[0].text)"
   ]
  }
 ],
 "metadata": {
  "kernelspec": {
   "display_name": ".venv",
   "language": "python",
   "name": "python3"
  },
  "language_info": {
   "codemirror_mode": {
    "name": "ipython",
    "version": 3
   },
   "file_extension": ".py",
   "mimetype": "text/x-python",
   "name": "python",
   "nbconvert_exporter": "python",
   "pygments_lexer": "ipython3",
   "version": "3.12.8"
  }
 },
 "nbformat": 4,
 "nbformat_minor": 2
}
